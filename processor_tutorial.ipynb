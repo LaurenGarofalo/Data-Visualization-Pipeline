{
  "nbformat": 4,
  "nbformat_minor": 0,
  "metadata": {
    "colab": {
      "provenance": []
    },
    "kernelspec": {
      "name": "python3",
      "display_name": "Python 3"
    },
    "language_info": {
      "name": "python"
    }
  },
  "cells": [
    {
      "cell_type": "markdown",
      "source": [
        "## **Tutorial for process module for data visualization**"
      ],
      "metadata": {
        "id": "geu6RPeEVb-I"
      }
    },
    {
      "cell_type": "markdown",
      "source": [
        "First, begin by importing the developed processor module, as well as numpy and pandas."
      ],
      "metadata": {
        "id": "VtRojQizVUGE"
      }
    },
    {
      "cell_type": "code",
      "execution_count": 20,
      "metadata": {
        "id": "1_S2CaOGTKst"
      },
      "outputs": [],
      "source": [
        "import process\n",
        "import numpy as np\n",
        "import pandas as pd"
      ]
    },
    {
      "cell_type": "markdown",
      "source": [
        "To simulate fish model data produced by Matlab/Simscape, the function below was created. This function randomly generates fin translational velocity data for 2 fins. The metadata is also produced which, again, mirrors the format of metadata that would be output by Simscape simulations."
      ],
      "metadata": {
        "id": "3Fj5govYVs6a"
      }
    },
    {
      "cell_type": "code",
      "source": [
        "def generate_random_fin_data_csv_file(file_name, seed = 42):\n",
        "  np.random.seed(seed)\n",
        "  time = np.arange(0, 10, .001)\n",
        "  data = []\n",
        "  fin1_vx = 5 * np.sin(time) + np.random.normal(0, 0.3, time.shape)\n",
        "  fin1_vy = np.sin(time) * np.cos(time) + np.random.normal(-1, 1, time.shape)\n",
        "  fin1_vz = np.sin(time) * np.cos(time) + np.random.normal(-.5, .5, time.shape)\n",
        "  fin2_vx = 5 * np.cos(time) + np.random.normal(-.2, 0.1, time.shape)\n",
        "  fin2_vy = np.sin(time) * np.cos(time) + np.random.normal(-1, 1, time.shape)\n",
        "  fin2_vz = np.sin(time) * np.cos(time) + np.random.normal(-.1, .1, time.shape)\n",
        "  fin2_vz.ravel()[np.random.choice(fin2_vz.size, 9000, replace = False)] = np.nan\n",
        "  arrays = [time, fin1_vx, fin1_vy, fin1_vz, fin2_vx, fin2_vy, fin2_vz]\n",
        "  for col in arrays:\n",
        "    data.append(col)\n",
        "  data = np.array(data).T  \n",
        "  np.savetxt(file_name, data, delimiter = ',')\n",
        "\n",
        "  metadata = []\n",
        "  parameter = np.array([\"model_name\", \"version_number\", \"file_path\", \"solver_type\", \"solver_name\", \"step_size\", \"start_time\", \"elapsed_time\", \"stop_event\", \"error\", \"columns\", \"col_units\"])\n",
        "  values = np.array([\"my_model\", \"2\", \"C:/Users/JDoe/project/my_model.slx\", \"Fixed_Step\", \"ode3\", \"0.001\", \"2022-11-16 13:48:20\", \"1.2208\", \"ReachedStopTime\", \"None\", \"time|fin1_vx|fin1_vy|fin1_vz|fin2_vx|fin2_vy|fin2_vz\", \"s|m/s|m/s|m/s|m/s|m/s|m/s|\"])\n",
        "  \n",
        "  #with open()\n",
        "  \n",
        "  metadata_info = [parameter, values]\n",
        "  for col in metadata_info:\n",
        "    metadata.append(col)\n",
        "  metadata = np.array(metadata).T\n",
        "  np.savetxt(\"metadata.csv\", metadata, delimiter = \",\", fmt = \"% s\")  "
      ],
      "metadata": {
        "id": "Dt_5KJNlTveO"
      },
      "execution_count": 21,
      "outputs": []
    },
    {
      "cell_type": "markdown",
      "source": [
        "Use the function to generate data. Let's title it \"fin_data.csv\""
      ],
      "metadata": {
        "id": "2OSdlYzpWLRm"
      }
    },
    {
      "cell_type": "code",
      "source": [
        "data = generate_random_fin_data_csv_file(\"fin_data.csv\")"
      ],
      "metadata": {
        "id": "BKun5a4xTyVB"
      },
      "execution_count": 22,
      "outputs": []
    },
    {
      "cell_type": "markdown",
      "source": [
        "Read the generated data, \"fin_data.csv\" and \"metadata.csv\". If importing your own data, this is where you'd begin. Note that the column names aren't shown in the pandas dataframe, they are currenlty held in the metadata. "
      ],
      "metadata": {
        "id": "zr7mFn8gWUSH"
      }
    },
    {
      "cell_type": "code",
      "source": [
        "data = pd.read_csv(\"fin_data.csv\", header = None)\n",
        "metadata = pd.read_csv(\"metadata.csv\", header = None)\n",
        "print(data.head())\n",
        "print(metadata)"
      ],
      "metadata": {
        "colab": {
          "base_uri": "https://localhost:8080/"
        },
        "id": "s9mFUBkGT19d",
        "outputId": "c013d77f-46ab-4974-e346-6d87ece0f2db"
      },
      "execution_count": 33,
      "outputs": [
        {
          "output_type": "stream",
          "name": "stdout",
          "text": [
            "       0         1         2         3         4         5   6\n",
            "0  0.000  0.149014 -1.678495 -0.325857  4.601943 -1.471858 NaN\n",
            "1  0.001 -0.036479 -1.304499 -0.357338  4.694499  0.013702 NaN\n",
            "2  0.002  0.204307 -1.595381 -0.966260  4.741287 -1.196187 NaN\n",
            "3  0.003  0.471909 -0.886582 -0.207208  4.814944 -0.906431 NaN\n",
            "4  0.004 -0.050246  0.201178 -1.241041  4.902376 -0.278609 NaN\n",
            "                 0                                                  1\n",
            "0       model_name                                           my_model\n",
            "1   version_number                                                  2\n",
            "2        file_path                 C:/Users/JDoe/project/my_model.slx\n",
            "3      solver_type                                         Fixed_Step\n",
            "4      solver_name                                               ode3\n",
            "5        step_size                                              0.001\n",
            "6       start_time                                2022-11-16 13:48:20\n",
            "7     elapsed_time                                             1.2208\n",
            "8       stop_event                                    ReachedStopTime\n",
            "9            error                                               None\n",
            "10         columns  time|fin1_vx|fin1_vy|fin1_vz|fin2_vx|fin2_vy|f...\n",
            "11       col_units                         s|m/s|m/s|m/s|m/s|m/s|m/s|\n"
          ]
        }
      ]
    },
    {
      "cell_type": "markdown",
      "source": [
        "Initialize the data processor with the data and metadata files. "
      ],
      "metadata": {
        "id": "Wf9OMHBhW0dF"
      }
    },
    {
      "cell_type": "code",
      "source": [
        "processor = process.DataProcessor(data, metadata)"
      ],
      "metadata": {
        "id": "lWHLD33jUi7a"
      },
      "execution_count": 25,
      "outputs": []
    },
    {
      "cell_type": "markdown",
      "source": [
        "Let's start by visualizing the data, which can be done using the following function. Calling the function will display the plotting column options for the user. These options are the column names that are held in the metadata. Time isn't included since it will be used for the x-axis since the data coming from Simscape simulations would always be timeseries data.\n",
        "\n",
        "After producing a plot, the user will be prompted to either save or discard the plot. "
      ],
      "metadata": {
        "id": "8YCHxQMzW35p"
      }
    },
    {
      "cell_type": "code",
      "source": [
        "processor.visualize_data()"
      ],
      "metadata": {
        "colab": {
          "base_uri": "https://localhost:8080/",
          "height": 607
        },
        "id": "goizvzHjUlyu",
        "outputId": "2e7800a9-7a08-47d4-c90e-e97ecfc8a63c"
      },
      "execution_count": 26,
      "outputs": [
        {
          "name": "stdout",
          "output_type": "stream",
          "text": [
            "DATA OPTIONS: {1: 'fin1_vx', 2: 'fin1_vy', 3: 'fin1_vz', 4: 'fin2_vx', 5: 'fin2_vy', 6: 'fin2_vz'}\n",
            "How many columns would you like to select?\n",
            "The maximum number is: 6\n",
            "Enter number:\n",
            "2\n",
            "Select a column number.\n",
            "Options: {1: 'fin1_vx', 2: 'fin1_vy', 3: 'fin1_vz', 4: 'fin2_vx', 5: 'fin2_vy', 6: 'fin2_vz'}\n",
            "Enter number:\n",
            "1\n",
            "Select a column number.\n",
            "Options: {2: 'fin1_vy', 3: 'fin1_vz', 4: 'fin2_vx', 5: 'fin2_vy', 6: 'fin2_vz'}\n",
            "Enter number:\n",
            "4\n"
          ]
        },
        {
          "output_type": "display_data",
          "data": {
            "text/plain": [
              "<Figure size 432x288 with 1 Axes>"
            ],
            "image/png": "[encoded data removed]"
          },
          "metadata": {
            "needs_background": "light"
          }
        },
        {
          "name": "stdout",
          "output_type": "stream",
          "text": [
            "Would you like to save the plot?\n",
            "Enter choice:y\n",
            "Your cwd is /content/drive/MyDrive. Would you like to save here?\n",
            "Enter choice:y\n",
            "Enter a file name:x_velocity\n"
          ]
        }
      ]
    },
    {
      "cell_type": "markdown",
      "source": [
        "Another functionality of the processor is supplying a data rundown, which displays the column name, units, and statistical measures for numerical data. Another key parameter shown in the rundown is the proportion of null data in each column. \n"
      ],
      "metadata": {
        "id": "ewunwnG9X6Tu"
      }
    },
    {
      "cell_type": "code",
      "source": [
        "processor.get_data_rundown()"
      ],
      "metadata": {
        "colab": {
          "base_uri": "https://localhost:8080/"
        },
        "id": "4Gzl2-u2Un_d",
        "outputId": "4dff6b67-81aa-49d3-8a3e-eacdf29ded66"
      },
      "execution_count": 27,
      "outputs": [
        {
          "output_type": "stream",
          "name": "stdout",
          "text": [
            "DATA OPTIONS: {1: 'fin1_vx', 2: 'fin1_vy', 3: 'fin1_vz', 4: 'fin2_vx', 5: 'fin2_vy', 6: 'fin2_vz'}\n",
            "How many columns would you like to select?\n",
            "The maximum number is: 6\n",
            "Enter number:\n",
            "6\n",
            "+--------------------+--------------------+---------------------+----------------------+---------------------+---------------------+----------------------+\n",
            "|     Parameter      |      fin1_vx       |       fin1_vy       |       fin1_vz        |       fin2_vx       |       fin2_vy       |       fin2_vz        |\n",
            "+--------------------+--------------------+---------------------+----------------------+---------------------+---------------------+----------------------+\n",
            "|    Column Units    |        m/s         |         m/s         |         m/s          |         m/s         |         m/s         |         m/s          |\n",
            "|     Min Value      | -5.950730131493425 |  -5.026621769771797 |  -2.808672806289706  |  -5.471102596672768 |  -4.870172673753723 | -0.8288293390910787  |\n",
            "|     Max Value      | 5.953048153901708  |  3.093596769363683  |  1.5557645778935203  |  5.063501483941872  |  2.6712549801728054 |  0.7388212196197553  |\n",
            "|      Average       | 0.919030898177439  | -0.9716908270443655 | -0.4914562645579272  | -0.4723079124565596 | -0.9786931981901603 | -0.09011252282599592 |\n",
            "|       Median       | 1.577291143055076  | -0.9706389814229274 | -0.48259819945749527 | -0.7073415860463576 | -0.9755782863940657 | -0.07912981303979066 |\n",
            "| Standard Deviation | 3.3511248012425097 |  1.0620691757647795 |  0.6084569523734379  |  3.6056849525585344 |  1.0574763687469888 |  0.3645916293244012  |\n",
            "|   Missing Data %   |        0.0         |         0.0         |         0.0          |         0.0         |         0.0         |         90.0         |\n",
            "+--------------------+--------------------+---------------------+----------------------+---------------------+---------------------+----------------------+\n"
          ]
        }
      ]
    },
    {
      "cell_type": "markdown",
      "source": [
        "Since the last column 'fin2_vz' has 90% missing data, it would be a good idea to visualize this data, which can be done once again with the visualize_data function."
      ],
      "metadata": {
        "id": "7T_4FGSRYRYm"
      }
    },
    {
      "cell_type": "code",
      "source": [
        "processor.visualize_data()"
      ],
      "metadata": {
        "colab": {
          "base_uri": "https://localhost:8080/",
          "height": 486
        },
        "id": "Hv7My2aHUqtQ",
        "outputId": "ba1e5e98-f800-46a9-e7a6-ba97d1881e7d"
      },
      "execution_count": 28,
      "outputs": [
        {
          "name": "stdout",
          "output_type": "stream",
          "text": [
            "DATA OPTIONS: {1: 'fin1_vx', 2: 'fin1_vy', 3: 'fin1_vz', 4: 'fin2_vx', 5: 'fin2_vy', 6: 'fin2_vz'}\n",
            "How many columns would you like to select?\n",
            "The maximum number is: 6\n",
            "Enter number:\n",
            "1\n",
            "Select a column number.\n",
            "Options: {1: 'fin1_vx', 2: 'fin1_vy', 3: 'fin1_vz', 4: 'fin2_vx', 5: 'fin2_vy', 6: 'fin2_vz'}\n",
            "Enter number:\n",
            "6\n"
          ]
        },
        {
          "output_type": "display_data",
          "data": {
            "text/plain": [
              "<Figure size 432x288 with 1 Axes>"
            ],
            "image/png": "[encoded data removed]"
          },
          "metadata": {
            "needs_background": "light"
          }
        },
        {
          "name": "stdout",
          "output_type": "stream",
          "text": [
            "Would you like to save the plot?\n",
            "Enter choice:n\n"
          ]
        }
      ]
    },
    {
      "cell_type": "markdown",
      "source": [
        "Visualizing the data, especially with missing data, can indicate that a sensor may not be operating properly or there is some error with a component in the Simscape model. \n",
        "\n",
        "Now, let's look at how Simscape stores the timestamp metadata."
      ],
      "metadata": {
        "id": "Wmn8nPlWYrWF"
      }
    },
    {
      "cell_type": "code",
      "source": [
        "print(processor.get_metadata_dict()[\"start_time\"])"
      ],
      "metadata": {
        "colab": {
          "base_uri": "https://localhost:8080/"
        },
        "id": "pSpURa-KUsqc",
        "outputId": "1055ec23-76a4-46db-beb2-274d85f43ecc"
      },
      "execution_count": 29,
      "outputs": [
        {
          "output_type": "stream",
          "name": "stdout",
          "text": [
            "2022-11-16 13:48:20\n"
          ]
        }
      ]
    },
    {
      "cell_type": "markdown",
      "source": [
        "The data is stored all in one line. It may be beneficial to split the date and time into separate metadata labels. This can be done with the 'extract_timestamp' function. This function removes the date portion of the timestamp and prompts the user if they'd like to save the date under a separate label. The processor metadata is updated in place. Note: this transformation is done to the metadata that was loaded into the processor as opposed to the metadata file itself. Therefore, edits can be made safely without unwantedly corrupting the original metadata file. "
      ],
      "metadata": {
        "id": "jeQJc9lDZdNq"
      }
    },
    {
      "cell_type": "code",
      "source": [
        "new_meta_dict = processor.extract_timestamp()\n",
        "print(processor.metadata)"
      ],
      "metadata": {
        "colab": {
          "base_uri": "https://localhost:8080/"
        },
        "id": "SEFflsKuUOpW",
        "outputId": "03f1c6a6-74ec-4ede-f8aa-04463129460e"
      },
      "execution_count": 30,
      "outputs": [
        {
          "output_type": "stream",
          "name": "stdout",
          "text": [
            "Would you like to save the date in a separate key?\n",
            "Enter choice:y\n",
            "Enter a date label name:date\n",
            "                 0                                                  1\n",
            "0       model_name                                           my_model\n",
            "1   version_number                                                  2\n",
            "2        file_path                 C:/Users/JDoe/project/my_model.slx\n",
            "3      solver_type                                         Fixed_Step\n",
            "4      solver_name                                               ode3\n",
            "5        step_size                                              0.001\n",
            "6       start_time                                           13:48:20\n",
            "7     elapsed_time                                             1.2208\n",
            "8       stop_event                                    ReachedStopTime\n",
            "9            error                                               None\n",
            "10         columns  time|fin1_vx|fin1_vy|fin1_vz|fin2_vx|fin2_vy|f...\n",
            "11       col_units                         s|m/s|m/s|m/s|m/s|m/s|m/s|\n",
            "12            date                                         2022-11-16\n"
          ]
        }
      ]
    },
    {
      "cell_type": "markdown",
      "source": [
        "Finally, the next step would be to upload this data and metadata to a data management system, such a Datafed. To do so, the metadata needs to be in a JSON format, which can easily be done using the processor's \"convert_metadata_to_JSON\" function."
      ],
      "metadata": {
        "id": "Q63_Mcv9aPr2"
      }
    },
    {
      "cell_type": "code",
      "source": [
        "json_metadata = processor.convert_metadata_to_JSON()\n",
        "print(json_metadata)"
      ],
      "metadata": {
        "colab": {
          "base_uri": "https://localhost:8080/"
        },
        "id": "ji2SjjGjUxYl",
        "outputId": "c8879484-171e-41fd-8224-33ef0ab405d8"
      },
      "execution_count": 31,
      "outputs": [
        {
          "output_type": "stream",
          "name": "stdout",
          "text": [
            "{\"model_name\": \"my_model\", \"version_number\": \"2\", \"file_path\": \"C:/Users/JDoe/project/my_model.slx\", \"solver_type\": \"Fixed_Step\", \"solver_name\": \"ode3\", \"step_size\": \"0.001\", \"start_time\": \"13:48:20\", \"elapsed_time\": \"1.2208\", \"stop_event\": \"ReachedStopTime\", \"error\": \"None\", \"columns\": \"time|fin1_vx|fin1_vy|fin1_vz|fin2_vx|fin2_vy|fin2_vz\", \"col_units\": \"s|m/s|m/s|m/s|m/s|m/s|m/s|\", \"date\": \"2022-11-16\"}\n"
          ]
        }
      ]
    }
  ]
}